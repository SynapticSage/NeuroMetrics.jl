{
    "cells": [
        {
            "outputs": [],
            "cell_type": "code",
            "source": [
                "### A Pluto.jl notebook ###\n",
                "# v0.19.9\n",
                "",
                "using Markdown\n",
                "using InteractiveUtils\n",
                "",
                "# This Pluto notebook uses @bind for interactivity. When running this notebook outside of Pluto, the following 'mock version' of @bind gives bound variables a default value (instead of an error).\n",
                "macro bind(def, element)\n",
                "    quote\n",
                "        local iv = try Base.loaded_modules[Base.PkgId(Base.UUID(\"6e696c72-6542-2067-7265-42206c756150\"), \"AbstractPlutoDingetjes\")].Bonds.initial_value catch; b -> missing; end\n",
                "        local el = $(esc(element))\n",
                "        global $(esc(def)) = Core.applicable(Base.get, el) ? Base.get(el) : iv(el)\n",
                "        el\n",
                "    end\n",
                "end\n",
                "",
                ""
            ],
            "metadata": {},
            "execution_count": 1
        },
        {
            "cell_type": "markdown",
            "source": [
                "\n",
                "!!! notebook\n",
                "\t🚀 **Adaptive receptive fields**\n",
                "\n",
                "Purpose: Test out my base adaptive field codes. Make sure the various steps (grid, occupancy, and fields) are working. Also make sure downstream shifted objects are working.\n",
                "\n",
                "##### *TODO*\n",
                "* metrics(shifted fields)\n",
                "* shifted field plot recipes\n",
                "* radii vector support\n",
                "  * plot recipe\n",
                "  * selection via 10 increase in base sample width\n",
                "* to_dataframe\n",
                "  * fields\n",
                "  * metrics\n",
                "  * shifted fields\n",
                "\n"
            ],
            "metadata": {}
        },
        {
            "outputs": [],
            "cell_type": "code",
            "source": [
                "PlutoUI.TableOfContents(title=\"🚀 Adaptive RFs\" )\n",
                "",
                ""
            ],
            "metadata": {},
            "execution_count": 2
        },
        {
            "cell_type": "markdown",
            "source": [
                "\n",
                "# Preamble \n",
                "Import packages\n",
                "\n"
            ],
            "metadata": {}
        },
        {
            "outputs": [],
            "cell_type": "code",
            "source": [
                "# ╠═╡ show_logs = false\n",
                "begin\n",
                "\t  using DrWatson\n",
                "\t  quickactivate(expanduser(\"~/Projects/goal-code\"))\n",
                "\t  using Plots\n",
                "\t  using Revise\n",
                "\t  using DataFrames\n",
                "\t  using NaNStatistics\n",
                "\t  import ProgressLogging\n",
                "\t  using PlutoUI\n",
                "\t  using DataStructures: OrderedDict\n",
                "",
                "\t  using GoalFetchAnalysis\n",
                "\t  import Utils\n",
                "\t  import Timeshift\n",
                "\t  #import Plot\n",
                "\t  using Field.metrics\n",
                "    using ColorSchemes\n",
                "    using DataFramesMeta\n",
                "\tusing Timeshift.types\n",
                "\tusing Timeshift.shiftmetrics\n",
                "    using StatsBase\n",
                "    using DimensionalData\n",
                "    using StatsPlots\n",
                "    using GLM\n",
                "\tusing ImageSegmentation, Images, LazySets, Statistics\n",
                "    import Plot\n",
                "\t  \n",
                "\t  adaptive = Field.adaptive\n",
                "      metrics = Field.metrics\n",
                "\t  WIDTHS = OrderedDict(\n",
                "\t\t  \"x\"=>2.5f0, \"y\"=>2.5f0, \"currentPathLength\"=>2f0,\n",
                "          \"currentAngle\"=>Float32(2pi/80)\n",
                "\t  )\n",
                "      filts = Filt.get_filters_precache()\n",
                "\tmaxrad = nothing\n",
                "end\n",
                "",
                ""
            ],
            "metadata": {},
            "execution_count": 3
        },
        {
            "outputs": [],
            "cell_type": "code",
            "source": [
                "prop_sel = @bind prop_str PlutoUI.Radio([\"y-x\",\"currentAngle-currentPathLength\", \"currentAngle\",\"currentPathLength\"], default=\"y-x\")\n",
                "",
                ""
            ],
            "metadata": {},
            "execution_count": 4
        },
        {
            "cell_type": "markdown",
            "source": [
                "\n",
                "Loadup (spikes,beh) dataframes and transfer $(join(props,\"-\")) to spikes structure\n",
                "\n"
            ],
            "metadata": {}
        },
        {
            "outputs": [],
            "cell_type": "code",
            "source": [
                "beh, spikes = begin\n",
                "\tprops = Vector{String}(split(prop_str, \"-\"))\n",
                "\t@info props\n",
                "\t@time spikes, beh, ripples, cells = Load.load(\"RY16\", 36);\n",
                "\t@time beh, spikes  = Load.register(beh, spikes; on=\"time\", transfer=props)\n",
                "    spikes = dropmissing(spikes, props)\n",
                "    beh, spikes\n",
                "end;\n",
                "",
                ""
            ],
            "metadata": {},
            "execution_count": 5
        },
        {
            "outputs": [],
            "cell_type": "code",
            "source": [
                "grid_select = begin\n",
                "\twidth_select =  @bind width  Slider(0f0:0.2f0:2f0, show_value=true, default=04f0)\n",
                "\tthresh_select = @bind thresh Slider(1f0:0.5f0:6f0, show_value=true, default=4f0)\n",
                "\t(;width_select, thresh_select)\n",
                "end\n",
                "",
                ""
            ],
            "metadata": {},
            "execution_count": 6
        },
        {
            "cell_type": "markdown",
            "source": [
                "\n",
                "    widths = $widths\n",
                "    \n"
            ],
            "metadata": {}
        },
        {
            "outputs": [],
            "cell_type": "code",
            "source": [
                "radiusinc, ylim, aspect_ratio = if prop_sel == \"y-x\"\n",
                "\t0.1f0, nothing, 1\n",
                "elseif prop_sel == \"currentAngle-currentPathLength\"\n",
                "    0.05f0, (0, 100), 1/18\n",
                "else\n",
                "\t0.05f0, nothing, 1\n",
                "end\n",
                "",
                ""
            ],
            "metadata": {},
            "execution_count": 7
        },
        {
            "cell_type": "markdown",
            "source": [
                "\n",
                "# Δt = 0 only\n",
                "\n",
                "## 🌐 Grid\n",
                "Let's try making a grid object\n",
                "\n"
            ],
            "metadata": {}
        },
        {
            "outputs": [],
            "cell_type": "code",
            "source": [
                "widths\n",
                "",
                ""
            ],
            "metadata": {},
            "execution_count": 8
        },
        {
            "outputs": [],
            "cell_type": "code",
            "source": [
                "# ╠═╡ show_logs = false\n",
                "begin\n",
                "    boundary = prop_str == \"y-x\" ? nothing : Dict(\"currentPathLength\"=>(0,100))\n",
                "    @time G = adaptive.get_grid(beh, props; widths, thresh, maxrad=prop_str == \"y-x\" ? 10f0 : nothing, radiusinc, boundary);\n",
                "end\n",
                "",
                ""
            ],
            "metadata": {},
            "execution_count": 9
        },
        {
            "cell_type": "markdown",
            "source": [
                "\n",
                "Implied linear width of `maxrad[$(nanmaximum(G.radii))]` => $(nanmaximum(G.radii) * sqrt(2)) \n",
                "\n"
            ],
            "metadata": {}
        },
        {
            "outputs": [],
            "cell_type": "code",
            "source": [
                "grid_select\n",
                "",
                ""
            ],
            "metadata": {},
            "execution_count": 10
        },
        {
            "outputs": [],
            "cell_type": "code",
            "source": [
                "plot(G; title=\"radii\\nresolution=$(size(G.grid))\")\n",
                "",
                ""
            ],
            "metadata": {},
            "execution_count": 11
        },
        {
            "outputs": [],
            "cell_type": "code",
            "source": [
                "if ndims(G.radii) == 2\n",
                "\theatmap([collect(x) for x in G.centers]..., (G.radii .=== NaN32)'; title=\"nan locations\")\n",
                "end\n",
                "",
                ""
            ],
            "metadata": {},
            "execution_count": 12
        },
        {
            "outputs": [],
            "cell_type": "code",
            "source": [
                "G.centers\n",
                "",
                ""
            ],
            "metadata": {},
            "execution_count": 13
        },
        {
            "outputs": [],
            "cell_type": "code",
            "source": [
                "G.radii\n",
                "",
                ""
            ],
            "metadata": {},
            "execution_count": 14
        },
        {
            "outputs": [],
            "cell_type": "code",
            "source": [
                "unique(G.radii)\n",
                "",
                ""
            ],
            "metadata": {},
            "execution_count": 15
        },
        {
            "cell_type": "markdown",
            "source": [
                "\n",
                "## 💠 Occupancy\n",
                "And an occupancy object\n",
                "\n"
            ],
            "metadata": {}
        },
        {
            "outputs": [],
            "cell_type": "code",
            "source": [
                "O = @time adaptive.get_occupancy(beh, G);\n",
                "",
                ""
            ],
            "metadata": {},
            "execution_count": 16
        },
        {
            "outputs": [],
            "cell_type": "code",
            "source": [
                "plot(O, clim=(0,0.01), ylims=ylim)\n",
                "",
                ""
            ],
            "metadata": {},
            "execution_count": 17
        },
        {
            "outputs": [],
            "cell_type": "code",
            "source": [
                "",
                "",
                ""
            ],
            "metadata": {},
            "execution_count": 18
        },
        {
            "outputs": [],
            "cell_type": "code",
            "source": [
                "# ╠═╡ disabled = true\n",
                "#=╠═╡\n",
                "O\n",
                "  ╠═╡ =#\n",
                "",
                ""
            ],
            "metadata": {},
            "execution_count": 19
        },
        {
            "cell_type": "markdown",
            "source": [
                "\n",
                "## Multiunit adaptive field\n",
                "grab all spikes as single multiunit field\n",
                "\n"
            ],
            "metadata": {}
        },
        {
            "outputs": [],
            "cell_type": "code",
            "source": [
                "# Test field abilities\n",
                "@time multiunit = @time adaptive.get_adaptivefield(spikes, G, O);\n",
                "# @benchmark adaptive.get_adaptivefield(spikes, G, O);\n",
                "",
                ""
            ],
            "metadata": {},
            "execution_count": 20
        },
        {
            "outputs": [],
            "cell_type": "code",
            "source": [
                "grid_select\n",
                "",
                ""
            ],
            "metadata": {},
            "execution_count": 21
        },
        {
            "outputs": [],
            "cell_type": "code",
            "source": [
                "plot(multiunit)\n",
                "",
                ""
            ],
            "metadata": {},
            "execution_count": 22
        },
        {
            "cell_type": "markdown",
            "source": [
                "\n",
                "## 🔥 Field dict of all cells\n",
                "\n"
            ],
            "metadata": {}
        },
        {
            "outputs": [],
            "cell_type": "code",
            "source": [
                "begin\n",
                "\t@time units = adaptive.yartsev(spikes, G, O; widths=width, thresh, \n",
                "\t                               filters=filts[:all]);\n",
                "end;\n",
                "",
                ""
            ],
            "metadata": {},
            "execution_count": 23
        },
        {
            "outputs": [],
            "cell_type": "code",
            "source": [
                "grid_select\n",
                "",
                ""
            ],
            "metadata": {},
            "execution_count": 24
        },
        {
            "cell_type": "markdown",
            "source": [
                "\n",
                "### Visualize fields @ Δt=0\n",
                "\n"
            ],
            "metadata": {}
        },
        {
            "outputs": [],
            "cell_type": "code",
            "source": [
                "U = units[(;unit=unit)];\n",
                "",
                ""
            ],
            "metadata": {},
            "execution_count": 25
        },
        {
            "outputs": [],
            "cell_type": "code",
            "source": [
                "revise(Plot.receptivefield)\n",
                "",
                ""
            ],
            "metadata": {},
            "execution_count": 26
        },
        {
            "outputs": [],
            "cell_type": "code",
            "source": [
                "begin\n",
                "\tbps = OrderedDict(k=>v[:bitsperspike] for (k,v) in units)\n",
                "\tsort!(bps, by=k->bps[k], rev=true)\n",
                "\tunits_ordered = [x[1] for x in keys(bps)]\n",
                "end\n",
                "",
                ""
            ],
            "metadata": {},
            "execution_count": 27
        },
        {
            "outputs": [],
            "cell_type": "code",
            "source": [
                "# ╠═╡ disabled = true\n",
                "#=╠═╡\n",
                "Memoization.empty_all_caches!()\n",
                "  ╠═╡ =#\n",
                "",
                ""
            ],
            "metadata": {},
            "execution_count": 28
        },
        {
            "outputs": [],
            "cell_type": "code",
            "source": [
                "# ╠═╡ disabled = true\n",
                "#=╠═╡\n",
                "Plot.setfolder(\"goal\", \"pathlength\")\n",
                "  ╠═╡ =#\n",
                "",
                ""
            ],
            "metadata": {},
            "execution_count": 29
        },
        {
            "outputs": [],
            "cell_type": "code",
            "source": [
                "unit_select = @bind unit PlutoUI.Slider(units_ordered, default=31, show_value=true)\n",
                "",
                ""
            ],
            "metadata": {},
            "execution_count": 30
        },
        {
            "outputs": [],
            "cell_type": "code",
            "source": [
                "plot(U)\n",
                "",
                ""
            ],
            "metadata": {},
            "execution_count": 31
        },
        {
            "outputs": [],
            "cell_type": "code",
            "source": [
                "# ╠═╡ disabled = true\n",
                "#=╠═╡\n",
                "Plot.save((;desc=\"pathlength\",unit))\n",
                "  ╠═╡ =#\n",
                "",
                ""
            ],
            "metadata": {},
            "execution_count": 32
        },
        {
            "outputs": [],
            "cell_type": "code",
            "source": [
                "ylims === nothing\n",
                "",
                ""
            ],
            "metadata": {},
            "execution_count": 33
        },
        {
            "outputs": [],
            "cell_type": "code",
            "source": [
                "μ_firing = begin\n",
                "    Q = units[(;unit=unit)]\n",
                "    nansum(reshape(Q.occ.prob, size(Q.occ.count)) .* Q.rate)\n",
                "end\n",
                "",
                ""
            ],
            "metadata": {},
            "execution_count": 34
        },
        {
            "outputs": [],
            "cell_type": "code",
            "source": [
                "field = units[(;unit=unit)]\n",
                "",
                ""
            ],
            "metadata": {},
            "execution_count": 35
        }
    ],
    "nbformat_minor": 2,
    "metadata": {
        "language_info": {
            "file_extension": ".jl",
            "mimetype": "application/julia",
            "name": "julia",
            "version": "1.7.3"
        },
        "kernelspec": {
            "name": "julia-1.7",
            "display_name": "Julia 1.7.3",
            "language": "julia"
        }
    },
    "nbformat": 4
}
