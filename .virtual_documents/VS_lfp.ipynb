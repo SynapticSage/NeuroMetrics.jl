import Pkg; Pkg.activate(expanduser("~/Projects/goal-code"))


#=
=====================================================
Script Name     : VS_lfp.jl
Autho=r          : Ryan Young
Created         : 05-03-2023
Last Modified   : 05-03-2023
===================================================

# Description
This script plots local field potential properties against timeshifted
optimal 𝛕 of each cell.
=#

using GoalFetchAnalysis
using DataFrames, DataFramesMeta, ProgressMeter, StatsBase, Statistics,
StatsPlots, Plots, LaTeXStrings, DirectionalStatistics
using DSP: angle
Base.angle(x::Missing) = missing
using LaTeXStrings
import Random, Pluto
using Infiltrator
import TranscodingStreams


theme(:dark)


animal, day = "super_clean", 0
CELLS  = DI.load_cells(animal, day, "*")
time_factors = DI.behavior_0time_before_process("super")
taus = names(CELLS)[occursin.("1of20", names(CELLS))]

# -------------------------------
# Copy pasta from setup_pyr_iso.jl
# -------------------------------
function get_data(animal, day)
    # l_pyr = DI.load_lfp(animal, day; append="pyr")
    # l_pyr = transform(l_pyr, :time=> t-> t .- time_factors[animal], renamecols=false)
    # transform!(l_pyr, :time=> t-> t .+ time_factors[animal], renamecols=false)
    println("Cycles")
    cycles = DI.load_cycles(animal, day, "pyr")
    cycles = transform(cycles,
        :start=> t-> t .- time_factors[animal],
        :stop => t-> t .- time_factors[animal],
        renamecols=false
    )
    # cycles = cycles[!,Not([:start_function,:stop_function])]
    println("Spikes")
    spikes = transform(DI.load_spikes(animal, day, "pyr_cycles_isolated"),
        :time=> t-> t .- time_factors[animal],
        renamecols=false
    )
    # spikes = subset(SPIKES, :animal=>a->a.==animal, :day=>d->d.==day)
    # Print out extrema(time) for each of these just to be sure
    begin
        println("spikes.time: ", extrema(spikes.time))
        # println("lfp.time: ", extrema(l_pyr.time))
        println("cycles.time: ", extrema(cycles.start))
    end
    println("Behavior")
    beh = transform(DI.load_behavior(animal, day),
        :time=> t-> t .- time_factors[animal],
        renamecols=false
    )
    DIutils.pushover("Loaded checkpoint for $animal")
    (;cycles, spikes, beh)
end
CYCLES, SPIKES, BEH = [], [], []
datasets = [("RY16",36), ("RY22",21)]
(animal, day) = first(datasets)
for (animal, day) in datasets
    if !isfile(DI.cyclepath(animal, day, "pyr"))
        continue
    end
    println("Loading $animal")
    cycles, spikes, beh = get_data(animal, day)
    println("Adding $taus to $animal")
    spikes = sort!(spikes, [:unit, :time])
    DIutils.filtreg.register(CELLS, spikes, on="unit", transfer=taus)
    sort!(beh,:time)
    sort!(spikes,:time)
    DIutils.filtreg.register(beh, spikes, on="time", transfer=["speedsmooth"])
    println("Done with $animal")
    push!(CYCLES, cycles)
    push!(SPIKES, spikes)
    push!(BEH, beh)
    # Transfer the tau values to the spikes
end
CYCLES = vcat(CYCLES...)
SPIKES = vcat(SPIKES...)
BEH = vcat(BEH...; cols=:union)


# Convert the two event phases [0, 1] to [0, 2π]
begin
    println(" ====  INITIAL  ====  ")
    println("Range of ripple_phase", extrema(SPIKES.ripple_phase|>skipmissing));
    println("Range of theta_phase", extrema(SPIKES.theta_phase|>skipmissing));
    println("Range of ripple_phase_band", extrema(SPIKES.ripple_phase_band|>skipmissing));
    println(" ================  ")
end
begin
    SPIKES.theta_phase = replace(SPIKES.theta_phase, NaN=>missing);
    SPIKES.tp   = 2π*SPIKES.theta_phase;
    SPIKES.spwp = 2π*SPIKES.ripple_phase;
    SPIKES.rp   = SPIKES.ripple_phase_band;
    SPIKES.theta_phase  = allowmissing(SPIKES.tp);
    SPIKES.ripple_phase = allowmissing(SPIKES.spwp);
    missing_inds = findall((SPIKES.theta_phase .> 2pi)|>skipmissing);
    SPIKES.theta_phase[missing_inds] .= missing;
    missing_inds = findall((SPIKES.ripple_phase .> 2pi)|>skipmissing);
    SPIKES.ripple_phase[missing_inds] .= missing;
    SPIKES.tp   = exp.(im*SPIKES.tp);
    SPIKES.spwp = exp.(im*SPIKES.spwp);
    SPIKES.rp   = exp.(im*SPIKES.rp);
end
begin
    println(" ====  FINAL ====  ")
    println("Range of ripple_phase", extrema(SPIKES.ripple_phase|>skipmissing));
    println("Range of theta_phase", extrema(SPIKES.theta_phase|>skipmissing));
    println("Range of ripple_phase_band", extrema(SPIKES.ripple_phase_band|>skipmissing));                                                                                                     83,5          12%
end


# When there's no ripple, make sure these fields are `missing`
transform!(subset(SPIKES, :ripple => r->r .== 0, view=true),
    :ripple_time => x->x .* missing,
    :ripple_phase => x->x .* missing,
    :ripple_phase_band => x->x .* missing,
    :ripple_amp_band => x->x .* missing);


h1=histogram(filter(x->x<80,BEH.speedsmooth)) 
vline!([4],c=:red, title=:speed, label="")
h2=histogram(SPIKES.theta_phase)
plot(h1,h2)


Plot.setfolder("cell-strength-of-locking")
function plot_spike_phases(sp::DataFrame; field=:spwp, name="ripple")
    r = Random.randperm(nrow(sp))
    n=min(1000, nrow(sp))
    samples = sp[r[1:n],:][!,field] |> skipmissing |> collect
    s=  scatter(real.(samples).+randn(size(samples,1)).*0.1,
        imag.(samples)+randn(size(samples,1)).*0.1, ms=1,
        label=""
    )
    X=[0+0im; mean(sp[!,field]|>skipmissing|>collect)]
    # Y = imag(X);
    # X = real(X);
    plot!(real(X), imag(X), color=:black, label="$(nrow(sp)) spikes))")
    scatter!([real(X)[end]], [imag(X)[end]], color=:black, label="", ms=7)
    Plot.save("$name-phase-of-spikes_cell=$(first(sp.unit))")
    s
end
plot(
    histogram(SPIKES.tp.|>angle, bins=100, normed=true,
        label="Theta phase"),
    histogram(SPIKES.spwp.|>angle, bins=100, normed=true,
        label="SPW phase"),
    histogram(SPIKES.rp.|>angle, bins=100, normed=true,
        label="Ripple phase"),
)
Plot.save("phase-distribution, all cells")
current()
